{
 "cells": [
  {
   "cell_type": "code",
   "execution_count": 2,
   "id": "11986712",
   "metadata": {},
   "outputs": [],
   "source": [
    "nome = 'Andre Garcia Gusukuma'"
   ]
  },
  {
   "cell_type": "code",
   "execution_count": 3,
   "id": "a4d03f69",
   "metadata": {},
   "outputs": [
    {
     "data": {
      "text/plain": [
       "'andre garcia gusukuma'"
      ]
     },
     "execution_count": 3,
     "metadata": {},
     "output_type": "execute_result"
    }
   ],
   "source": [
    "nome.lower()"
   ]
  },
  {
   "cell_type": "code",
   "execution_count": 5,
   "id": "c024c7f5",
   "metadata": {},
   "outputs": [
    {
     "data": {
      "text/plain": [
       "'ANDRE GARCIA GUSUKUMA'"
      ]
     },
     "execution_count": 5,
     "metadata": {},
     "output_type": "execute_result"
    }
   ],
   "source": [
    "nome.upper()"
   ]
  },
  {
   "cell_type": "code",
   "execution_count": 7,
   "id": "b4e6b104",
   "metadata": {},
   "outputs": [
    {
     "data": {
      "text/plain": [
       "False"
      ]
     },
     "execution_count": 7,
     "metadata": {},
     "output_type": "execute_result"
    }
   ],
   "source": [
    "nome.startswith('p')"
   ]
  },
  {
   "cell_type": "code",
   "execution_count": 8,
   "id": "5618a745",
   "metadata": {},
   "outputs": [
    {
     "data": {
      "text/plain": [
       "False"
      ]
     },
     "execution_count": 8,
     "metadata": {},
     "output_type": "execute_result"
    }
   ],
   "source": [
    "nome.endswith('j')"
   ]
  },
  {
   "cell_type": "code",
   "execution_count": 10,
   "id": "31b3efa8",
   "metadata": {},
   "outputs": [
    {
     "data": {
      "text/plain": [
       "'Andre'"
      ]
     },
     "execution_count": 10,
     "metadata": {},
     "output_type": "execute_result"
    }
   ],
   "source": [
    "nome[0:5]"
   ]
  },
  {
   "cell_type": "markdown",
   "id": "c2473bc5",
   "metadata": {},
   "source": [
    "# Lista"
   ]
  },
  {
   "cell_type": "code",
   "execution_count": 11,
   "id": "706c1920",
   "metadata": {},
   "outputs": [],
   "source": [
    "listadomercado = ['ovos,farinha,leite,maçãs']"
   ]
  },
  {
   "cell_type": "code",
   "execution_count": 12,
   "id": "2eec58b9",
   "metadata": {},
   "outputs": [
    {
     "name": "stdout",
     "output_type": "stream",
     "text": [
      "['ovos,farinha,leite,maçãs']\n"
     ]
    }
   ],
   "source": [
    "print(listadomercado)"
   ]
  },
  {
   "cell_type": "code",
   "execution_count": 19,
   "id": "d12d9880",
   "metadata": {},
   "outputs": [],
   "source": [
    "listadomercado2 = ['ovos','farinha','leite','maçãs']"
   ]
  },
  {
   "cell_type": "code",
   "execution_count": 14,
   "id": "192b9204",
   "metadata": {},
   "outputs": [
    {
     "name": "stdout",
     "output_type": "stream",
     "text": [
      "['ovos,farinha,leite,maçãs']\n"
     ]
    }
   ],
   "source": [
    "print(listadomercado2)"
   ]
  },
  {
   "cell_type": "code",
   "execution_count": 15,
   "id": "ac4decba",
   "metadata": {},
   "outputs": [],
   "source": [
    "lista3 = [12,100,'Universidade']"
   ]
  },
  {
   "cell_type": "code",
   "execution_count": 16,
   "id": "24401628",
   "metadata": {},
   "outputs": [
    {
     "name": "stdout",
     "output_type": "stream",
     "text": [
      "[12, 100, 'Universidade']\n"
     ]
    }
   ],
   "source": [
    "print(lista3)"
   ]
  },
  {
   "cell_type": "code",
   "execution_count": 17,
   "id": "bdd7ed5e",
   "metadata": {},
   "outputs": [],
   "source": [
    "item1 = lista3[0]\n",
    "item2 = lista3[1]\n",
    "item3 = lista3[2]"
   ]
  },
  {
   "cell_type": "code",
   "execution_count": 18,
   "id": "703a83db",
   "metadata": {},
   "outputs": [
    {
     "name": "stdout",
     "output_type": "stream",
     "text": [
      "12 100 Universidade\n"
     ]
    }
   ],
   "source": [
    "print(item1, item2, item3)"
   ]
  },
  {
   "cell_type": "code",
   "execution_count": 20,
   "id": "20b5f8e4",
   "metadata": {},
   "outputs": [],
   "source": [
    "listadomercado2[2] = 'chocolate'"
   ]
  },
  {
   "cell_type": "code",
   "execution_count": 23,
   "id": "7285b0ed",
   "metadata": {},
   "outputs": [
    {
     "name": "stdout",
     "output_type": "stream",
     "text": [
      "['ovos', 'farinha', 'chocolate']\n"
     ]
    }
   ],
   "source": [
    "print(listadomercado2)"
   ]
  },
  {
   "cell_type": "code",
   "execution_count": 22,
   "id": "9cb54e3f",
   "metadata": {},
   "outputs": [],
   "source": [
    "del listadomercado2[3]"
   ]
  },
  {
   "cell_type": "code",
   "execution_count": 24,
   "id": "1c311752",
   "metadata": {},
   "outputs": [],
   "source": [
    "listas = [[1,2,3],[10,15,14],[10.1,8.7,2.3]]"
   ]
  },
  {
   "cell_type": "code",
   "execution_count": 25,
   "id": "821e2aba",
   "metadata": {},
   "outputs": [],
   "source": [
    "a = listas[0]"
   ]
  },
  {
   "cell_type": "code",
   "execution_count": 26,
   "id": "011b9c2d",
   "metadata": {},
   "outputs": [
    {
     "data": {
      "text/plain": [
       "[1, 2, 3]"
      ]
     },
     "execution_count": 26,
     "metadata": {},
     "output_type": "execute_result"
    }
   ],
   "source": [
    "a"
   ]
  },
  {
   "cell_type": "code",
   "execution_count": 27,
   "id": "7c989efc",
   "metadata": {},
   "outputs": [],
   "source": [
    "a = []"
   ]
  },
  {
   "cell_type": "code",
   "execution_count": 28,
   "id": "a0f7fb44",
   "metadata": {},
   "outputs": [],
   "source": [
    "a.append(10)"
   ]
  },
  {
   "cell_type": "code",
   "execution_count": 29,
   "id": "7ffc2785",
   "metadata": {},
   "outputs": [
    {
     "data": {
      "text/plain": [
       "[10]"
      ]
     },
     "execution_count": 29,
     "metadata": {},
     "output_type": "execute_result"
    }
   ],
   "source": [
    "a"
   ]
  },
  {
   "cell_type": "code",
   "execution_count": null,
   "id": "2afae4f8",
   "metadata": {},
   "outputs": [],
   "source": []
  }
 ],
 "metadata": {
  "kernelspec": {
   "display_name": "Python 3",
   "language": "python",
   "name": "python3"
  },
  "language_info": {
   "codemirror_mode": {
    "name": "ipython",
    "version": 3
   },
   "file_extension": ".py",
   "mimetype": "text/x-python",
   "name": "python",
   "nbconvert_exporter": "python",
   "pygments_lexer": "ipython3",
   "version": "3.8.8"
  }
 },
 "nbformat": 4,
 "nbformat_minor": 5
}
